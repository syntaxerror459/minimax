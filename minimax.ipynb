{
 "cells": [
  {
   "cell_type": "code",
   "execution_count": 1,
   "metadata": {},
   "outputs": [
    {
     "name": "stdout",
     "output_type": "stream",
     "text": [
      "The optimal value is : 12\n"
     ]
    }
   ],
   "source": [
    "import math\n",
    "\n",
    "def minimax (node,depth, max_turn, scores, target_depth):\n",
    "    if (depth == target_depth):\n",
    "        return scores[node]\n",
    "    if max_turn:\n",
    "        return max(\n",
    "            minimax(node * 2,depth + 1,False, scores, target_depth),\n",
    "            minimax(node * 2 + 1, depth + 1,False, scores, target_depth)\n",
    "        )\n",
    "    else:\n",
    "        return min(\n",
    "            minimax(node * 2, depth + 1,True, scores, target_depth),\n",
    "            minimax(node * 2 + 1, depth + 1,True, scores, target_depth)\n",
    "        )\n",
    "\n",
    "if __name__ == \"__main__\":\n",
    "    scores = [3, 5, 2, 9, 12, 5, 23, 23]\n",
    "    tree_depth = math.log(len(scores), 2)\n",
    "    print(\"The optimal value is :\",\n",
    "        minimax(0, 0, True, scores, tree_depth)\n",
    "    )"
   ]
  },
  {
   "cell_type": "code",
   "execution_count": null,
   "metadata": {},
   "outputs": [],
   "source": []
  }
 ],
 "metadata": {
  "kernelspec": {
   "display_name": "Python 3.9.13 ('base')",
   "language": "python",
   "name": "python3"
  },
  "language_info": {
   "codemirror_mode": {
    "name": "ipython",
    "version": 3
   },
   "file_extension": ".py",
   "mimetype": "text/x-python",
   "name": "python",
   "nbconvert_exporter": "python",
   "pygments_lexer": "ipython3",
   "version": "3.9.13"
  },
  "orig_nbformat": 4,
  "vscode": {
   "interpreter": {
    "hash": "5b30f736e45932896a1a27b0973802247d41f5c6dfddee68ac14f4b5531b8d9e"
   }
  }
 },
 "nbformat": 4,
 "nbformat_minor": 2
}
